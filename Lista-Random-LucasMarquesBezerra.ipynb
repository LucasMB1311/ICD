{
 "cells": [
  {
   "cell_type": "code",
   "execution_count": 1,
   "metadata": {},
   "outputs": [],
   "source": [
    "import string\n",
    "import random\n",
    "\n",
    "def generate_password(n_chars, use_numbers=True, use_special_chars=True):    \n",
    "        \n",
    "    senha = ['a', 'b', 'c', 'd', 'e', 'f' , '@', '_', '-']\n",
    "    \n",
    "    for i in range(10):\n",
    "        senha.append(random.randrange(10))\n",
    "        \n",
    "    random.shuffle(senha)\n",
    "    \n",
    "    return senha"
   ]
  },
  {
   "cell_type": "code",
   "execution_count": 2,
   "metadata": {},
   "outputs": [
    {
     "name": "stdout",
     "output_type": "stream",
     "text": [
      "[1, 7, 'c', 4, 2, 6, 'f', 8, 6, 'a', '@', '-', 'd', 0, '_', 5, 'e', 7, 'b']\n",
      "['-', '_', 'a', 'f', 'd', 7, 'b', 8, 'e', 4, 3, 1, 'c', 1, '@', 8, 4, 6, 1]\n",
      "[1, 1, '@', 'a', 6, '-', 2, 'f', 7, 9, 2, 2, 'b', 'c', 3, 'e', '_', 'd', 4]\n"
     ]
    }
   ],
   "source": [
    "print(generate_password(10))\n",
    "print(generate_password(10, use_numbers=False))\n",
    "print(generate_password(10, use_numbers=False, use_special_chars=False))"
   ]
  },
  {
   "cell_type": "code",
   "execution_count": null,
   "metadata": {},
   "outputs": [],
   "source": []
  }
 ],
 "metadata": {
  "kernelspec": {
   "display_name": "Python 3",
   "language": "python",
   "name": "python3"
  },
  "language_info": {
   "codemirror_mode": {
    "name": "ipython",
    "version": 3
   },
   "file_extension": ".py",
   "mimetype": "text/x-python",
   "name": "python",
   "nbconvert_exporter": "python",
   "pygments_lexer": "ipython3",
   "version": "3.8.3"
  }
 },
 "nbformat": 4,
 "nbformat_minor": 4
}
